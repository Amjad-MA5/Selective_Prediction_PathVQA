{
 "cells": [
  {
   "cell_type": "code",
   "execution_count": 1,
   "metadata": {},
   "outputs": [
    {
     "ename": "SyntaxError",
     "evalue": "'return' outside function (calibrator.py, line 333)",
     "output_type": "error",
     "traceback": [
      "Traceback \u001b[0;36m(most recent call last)\u001b[0m:\n",
      "\u001b[0m  File \u001b[1;32m/home/zeus/miniconda3/envs/cloudspace/lib/python3.10/site-packages/IPython/core/interactiveshell.py:3548\u001b[0m in \u001b[1;35mrun_code\u001b[0m\n    exec(code_obj, self.user_global_ns, self.user_ns)\u001b[0m\n",
      "\u001b[0;36m  Cell \u001b[0;32mIn[1], line 1\u001b[0;36m\n\u001b[0;31m    import calibrator as cal\u001b[0;36m\n",
      "\u001b[0;36m  File \u001b[0;32m~/Selective_Prediction_PathVQA/calibration_methods/calibrator.py:333\u001b[0;36m\u001b[0m\n\u001b[0;31m    return (loss_accumulate, ece_accumulate)\u001b[0m\n\u001b[0m    ^\u001b[0m\n\u001b[0;31mSyntaxError\u001b[0m\u001b[0;31m:\u001b[0m 'return' outside function\n"
     ]
    }
   ],
   "source": [
    "import calibrator as cal\n",
    "import numpy as np\n"
   ]
  },
  {
   "cell_type": "code",
   "execution_count": 2,
   "metadata": {},
   "outputs": [
    {
     "ename": "NameError",
     "evalue": "name 'cal' is not defined",
     "output_type": "error",
     "traceback": [
      "\u001b[0;31m---------------------------------------------------------------------------\u001b[0m",
      "\u001b[0;31mNameError\u001b[0m                                 Traceback (most recent call last)",
      "Cell \u001b[0;32mIn[2], line 5\u001b[0m\n\u001b[1;32m      2\u001b[0m device \u001b[38;5;241m=\u001b[39m \u001b[38;5;124m'\u001b[39m\u001b[38;5;124mcude\u001b[39m\u001b[38;5;124m'\u001b[39m \u001b[38;5;28;01mif\u001b[39;00m torch\u001b[38;5;241m.\u001b[39mcuda\u001b[38;5;241m.\u001b[39mis_available() \u001b[38;5;28;01melse\u001b[39;00m \u001b[38;5;124m'\u001b[39m\u001b[38;5;124mcpu\u001b[39m\u001b[38;5;124m'\u001b[39m\n\u001b[1;32m      4\u001b[0m \u001b[38;5;66;03m# calibrator = cal.TempScaling(bias=True, num_label = 2, device=device, print_verbose= True) # cal.VectorScaling(num_label=<num_classes>, bias=True)\u001b[39;00m\n\u001b[0;32m----> 5\u001b[0m calibrator \u001b[38;5;241m=\u001b[39m \u001b[43mcal\u001b[49m\u001b[38;5;241m.\u001b[39mVectorScaling(bias\u001b[38;5;241m=\u001b[39m\u001b[38;5;28;01mTrue\u001b[39;00m, num_label \u001b[38;5;241m=\u001b[39m \u001b[38;5;241m2\u001b[39m, device\u001b[38;5;241m=\u001b[39mdevice, print_verbose\u001b[38;5;241m=\u001b[39m \u001b[38;5;28;01mTrue\u001b[39;00m) \u001b[38;5;66;03m# cal.VectorScaling(num_label=<num_classes>, bias=True)\u001b[39;00m\n",
      "\u001b[0;31mNameError\u001b[0m: name 'cal' is not defined"
     ]
    }
   ],
   "source": [
    "import torch\n",
    "device = 'cude' if torch.cuda.is_available() else 'cpu'\n",
    "\n",
    "# calibrator = cal.TempScaling(bias=True, num_label = 2, device=device, print_verbose= True) # cal.VectorScaling(num_label=<num_classes>, bias=True)\n",
    "calibrator = cal.VectorScaling(bias=True, num_label = 2, device=device, print_verbose= True) # cal.VectorScaling(num_label=<num_classes>, bias=True)\n"
   ]
  },
  {
   "cell_type": "code",
   "execution_count": 6,
   "metadata": {},
   "outputs": [
    {
     "name": "stdout",
     "output_type": "stream",
     "text": [
      "Before temperature - NLL: -4.595, ECE: 0.037\n",
      "Loss : -1.0\n",
      "Loss : 5.9604641222676946e-08\n",
      "Hello\n",
      "Optimal temperature:  [1.8967109 1.4043391]\n",
      "Optimal bias:  [ 0.14368218 -0.926355  ]\n",
      "After temperature - NLL: -22.469, ECE: 0.000\n"
     ]
    }
   ],
   "source": [
    "\n",
    "model_logits = np.array([3.2,1.4,1.0,5.99]).reshape(2,2)\n",
    "labels = np.array([0,1])\n",
    "calibrator.fit(model_logits, labels)"
   ]
  },
  {
   "cell_type": "code",
   "execution_count": 33,
   "metadata": {},
   "outputs": [
    {
     "data": {
      "text/plain": [
       "array([[23.328545 ,  6.4478903],\n",
       "       [ 7.6312914, 25.119215 ]], dtype=float32)"
      ]
     },
     "execution_count": 33,
     "metadata": {},
     "output_type": "execute_result"
    }
   ],
   "source": [
    "calibrator.calibrate(model_logits)"
   ]
  },
  {
   "cell_type": "code",
   "execution_count": 34,
   "metadata": {},
   "outputs": [
    {
     "data": {
      "text/plain": [
       "array([[23.328545 ,  6.4478903],\n",
       "       [ 7.6312914, 25.119215 ]], dtype=float32)"
      ]
     },
     "execution_count": 34,
     "metadata": {},
     "output_type": "execute_result"
    }
   ],
   "source": [
    "calibrator.calibrate(model_logits)"
   ]
  },
  {
   "cell_type": "code",
   "execution_count": null,
   "metadata": {},
   "outputs": [],
   "source": []
  },
  {
   "cell_type": "markdown",
   "metadata": {},
   "source": []
  }
 ],
 "metadata": {
  "language_info": {
   "name": "python"
  }
 },
 "nbformat": 4,
 "nbformat_minor": 2
}
